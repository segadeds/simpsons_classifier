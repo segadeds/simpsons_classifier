{
 "cells": [
  {
   "cell_type": "code",
   "execution_count": 1,
   "metadata": {
    "_cell_guid": "b1076dfc-b9ad-4769-8c92-a6c4dae69d19",
    "_uuid": "8f2839f25d086af736a60e9eeb907d3b93b6e0e5",
    "execution": {
     "iopub.execute_input": "2022-10-13T17:17:44.435686Z",
     "iopub.status.busy": "2022-10-13T17:17:44.434902Z",
     "iopub.status.idle": "2022-10-13T17:17:46.147302Z",
     "shell.execute_reply": "2022-10-13T17:17:46.146084Z",
     "shell.execute_reply.started": "2022-10-13T17:17:44.435598Z"
    }
   },
   "outputs": [],
   "source": [
    "from fastai.vision.all import *\n",
    "from fastai.vision.widgets import *"
   ]
  },
  {
   "cell_type": "code",
   "execution_count": 13,
   "metadata": {
    "execution": {
     "iopub.execute_input": "2022-10-13T17:46:01.530730Z",
     "iopub.status.busy": "2022-10-13T17:46:01.530163Z",
     "iopub.status.idle": "2022-10-13T17:46:01.698573Z",
     "shell.execute_reply": "2022-10-13T17:46:01.697490Z",
     "shell.execute_reply.started": "2022-10-13T17:46:01.530695Z"
    }
   },
   "outputs": [],
   "source": [
    "learn_inf = load_learner('/model.pkl')"
   ]
  },
  {
   "cell_type": "code",
   "execution_count": 15,
   "metadata": {
    "execution": {
     "iopub.execute_input": "2022-10-13T17:46:17.251053Z",
     "iopub.status.busy": "2022-10-13T17:46:17.250560Z",
     "iopub.status.idle": "2022-10-13T17:46:17.274878Z",
     "shell.execute_reply": "2022-10-13T17:46:17.273916Z",
     "shell.execute_reply.started": "2022-10-13T17:46:17.251011Z"
    }
   },
   "outputs": [
    {
     "data": {
      "application/vnd.jupyter.widget-view+json": {
       "model_id": "d3a17e7608784467a7b8e7dcbe514a8b",
       "version_major": 2,
       "version_minor": 0
      },
      "text/plain": [
       "FileUpload(value={}, description='Upload')"
      ]
     },
     "metadata": {},
     "output_type": "display_data"
    }
   ],
   "source": [
    "btn_upload = widgets.FileUpload()\n",
    "btn_upload"
   ]
  },
  {
   "cell_type": "code",
   "execution_count": 16,
   "metadata": {
    "execution": {
     "iopub.execute_input": "2022-10-13T17:46:29.115455Z",
     "iopub.status.busy": "2022-10-13T17:46:29.109460Z",
     "iopub.status.idle": "2022-10-13T17:46:29.127171Z",
     "shell.execute_reply": "2022-10-13T17:46:29.126033Z",
     "shell.execute_reply.started": "2022-10-13T17:46:29.115411Z"
    }
   },
   "outputs": [],
   "source": [
    "img = PILImage.create(btn_upload.data[-1])"
   ]
  },
  {
   "cell_type": "code",
   "execution_count": 17,
   "metadata": {
    "execution": {
     "iopub.execute_input": "2022-10-13T17:46:35.549045Z",
     "iopub.status.busy": "2022-10-13T17:46:35.548460Z",
     "iopub.status.idle": "2022-10-13T17:46:35.607284Z",
     "shell.execute_reply": "2022-10-13T17:46:35.606303Z",
     "shell.execute_reply.started": "2022-10-13T17:46:35.548982Z"
    }
   },
   "outputs": [
    {
     "data": {
      "application/vnd.jupyter.widget-view+json": {
       "model_id": "e22c69b20bb349f58fda378020c91c41",
       "version_major": 2,
       "version_minor": 0
      },
      "text/plain": [
       "Output()"
      ]
     },
     "metadata": {},
     "output_type": "display_data"
    }
   ],
   "source": [
    "out_pl = widgets.Output()\n",
    "out_pl.clear_output()\n",
    "with out_pl: display(img.to_thumb(128,128))\n",
    "out_pl"
   ]
  },
  {
   "cell_type": "code",
   "execution_count": 18,
   "metadata": {
    "execution": {
     "iopub.execute_input": "2022-10-13T17:46:38.909106Z",
     "iopub.status.busy": "2022-10-13T17:46:38.908643Z",
     "iopub.status.idle": "2022-10-13T17:46:39.130157Z",
     "shell.execute_reply": "2022-10-13T17:46:39.129209Z",
     "shell.execute_reply.started": "2022-10-13T17:46:38.909065Z"
    }
   },
   "outputs": [
    {
     "data": {
      "text/html": [
       "\n",
       "<style>\n",
       "    /* Turns off some styling */\n",
       "    progress {\n",
       "        /* gets rid of default border in Firefox and Opera. */\n",
       "        border: none;\n",
       "        /* Needs to be in here for Safari polyfill so background images work as expected. */\n",
       "        background-size: auto;\n",
       "    }\n",
       "    progress:not([value]), progress:not([value])::-webkit-progress-bar {\n",
       "        background: repeating-linear-gradient(45deg, #7e7e7e, #7e7e7e 10px, #5c5c5c 10px, #5c5c5c 20px);\n",
       "    }\n",
       "    .progress-bar-interrupted, .progress-bar-interrupted::-webkit-progress-bar {\n",
       "        background: #F44336;\n",
       "    }\n",
       "</style>\n"
      ],
      "text/plain": [
       "<IPython.core.display.HTML object>"
      ]
     },
     "metadata": {},
     "output_type": "display_data"
    },
    {
     "data": {
      "text/html": [],
      "text/plain": [
       "<IPython.core.display.HTML object>"
      ]
     },
     "metadata": {},
     "output_type": "display_data"
    }
   ],
   "source": [
    "pred,pred_idx,probs = learn_inf.predict(img)"
   ]
  },
  {
   "cell_type": "code",
   "execution_count": 19,
   "metadata": {
    "execution": {
     "iopub.execute_input": "2022-10-13T17:46:41.783373Z",
     "iopub.status.busy": "2022-10-13T17:46:41.782928Z",
     "iopub.status.idle": "2022-10-13T17:46:41.816583Z",
     "shell.execute_reply": "2022-10-13T17:46:41.815693Z",
     "shell.execute_reply.started": "2022-10-13T17:46:41.783336Z"
    }
   },
   "outputs": [
    {
     "data": {
      "application/vnd.jupyter.widget-view+json": {
       "model_id": "a783b67a35994229a87f94909f0523b1",
       "version_major": 2,
       "version_minor": 0
      },
      "text/plain": [
       "Label(value='Prediction: maggie_simpson; Probability: 0.9999')"
      ]
     },
     "metadata": {},
     "output_type": "display_data"
    }
   ],
   "source": [
    "lbl_pred = widgets.Label()\n",
    "lbl_pred.value = f'Prediction: {pred}; Probability: {probs[pred_idx]:.04f}'\n",
    "lbl_pred"
   ]
  },
  {
   "cell_type": "code",
   "execution_count": 20,
   "metadata": {
    "execution": {
     "iopub.execute_input": "2022-10-13T17:46:48.527574Z",
     "iopub.status.busy": "2022-10-13T17:46:48.527084Z",
     "iopub.status.idle": "2022-10-13T17:46:48.547505Z",
     "shell.execute_reply": "2022-10-13T17:46:48.546578Z",
     "shell.execute_reply.started": "2022-10-13T17:46:48.527482Z"
    }
   },
   "outputs": [
    {
     "data": {
      "application/vnd.jupyter.widget-view+json": {
       "model_id": "017fdd40d61a45839641ae3b7a1a20ad",
       "version_major": 2,
       "version_minor": 0
      },
      "text/plain": [
       "Button(description='Classify', style=ButtonStyle())"
      ]
     },
     "metadata": {},
     "output_type": "display_data"
    }
   ],
   "source": [
    "btn_run = widgets.Button(description='Classify')\n",
    "btn_run"
   ]
  },
  {
   "cell_type": "code",
   "execution_count": 21,
   "metadata": {
    "execution": {
     "iopub.execute_input": "2022-10-13T17:46:54.268462Z",
     "iopub.status.busy": "2022-10-13T17:46:54.268011Z",
     "iopub.status.idle": "2022-10-13T17:46:54.276797Z",
     "shell.execute_reply": "2022-10-13T17:46:54.275694Z",
     "shell.execute_reply.started": "2022-10-13T17:46:54.268422Z"
    }
   },
   "outputs": [],
   "source": [
    "def on_click_classify(change):\n",
    "    img = PILImage.create(btn_upload.data[-1])\n",
    "    out_pl.clear_output()\n",
    "    with out_pl: display(img.to_thumb(128,128))\n",
    "    pred,pred_idx,probs = learn_inf.predict(img)\n",
    "    lbl_pred.value = f'Prediction: {pred}; Probability:{probs[pred_idx]:.04f}'\n",
    "\n",
    "btn_run.on_click(on_click_classify)"
   ]
  },
  {
   "cell_type": "code",
   "execution_count": 22,
   "metadata": {
    "execution": {
     "iopub.execute_input": "2022-10-13T17:47:30.430795Z",
     "iopub.status.busy": "2022-10-13T17:47:30.430210Z",
     "iopub.status.idle": "2022-10-13T17:47:30.488918Z",
     "shell.execute_reply": "2022-10-13T17:47:30.487961Z",
     "shell.execute_reply.started": "2022-10-13T17:47:30.430752Z"
    }
   },
   "outputs": [
    {
     "data": {
      "application/vnd.jupyter.widget-view+json": {
       "model_id": "15d44c24eb52496ea65a3f3a27f6eb91",
       "version_major": 2,
       "version_minor": 0
      },
      "text/plain": [
       "VBox(children=(Label(value='Select your Simpson character!'), FileUpload(value={'pexels-dominik😎-13180055.jpg'…"
      ]
     },
     "metadata": {},
     "output_type": "display_data"
    }
   ],
   "source": [
    "VBox([widgets.Label('Select your Simpson character!'),\n",
    "      btn_upload, btn_run, out_pl, lbl_pred])"
   ]
  },
  {
   "cell_type": "code",
   "execution_count": null,
   "metadata": {},
   "outputs": [],
   "source": []
  }
 ],
 "metadata": {
  "kernelspec": {
   "display_name": "Python 3",
   "language": "python",
   "name": "python3"
  },
  "language_info": {
   "codemirror_mode": {
    "name": "ipython",
    "version": 3
   },
   "file_extension": ".py",
   "mimetype": "text/x-python",
   "name": "python",
   "nbconvert_exporter": "python",
   "pygments_lexer": "ipython3",
   "version": "3.8.8"
  }
 },
 "nbformat": 4,
 "nbformat_minor": 4
}
